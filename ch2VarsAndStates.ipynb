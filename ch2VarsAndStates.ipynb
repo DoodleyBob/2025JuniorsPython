{
 "cells": [
  {
   "cell_type": "markdown",
   "id": "50c0c059",
   "metadata": {},
   "source": [
    "# 2. Variables and Statements"
   ]
  },
  {
   "cell_type": "markdown",
   "id": "38eb2285",
   "metadata": {},
   "source": [
    "## 2.1 Variables\n",
    "\n",
    "<b>Variable</b> - is a name that refers to a value"
   ]
  },
  {
   "cell_type": "code",
   "execution_count": 3,
   "id": "255728af",
   "metadata": {},
   "outputs": [],
   "source": [
    "n = 17\n",
    "\n",
    "# n is the name of my variable\n",
    "# The variable name refers to a space in computer memory that holds a value"
   ]
  },
  {
   "cell_type": "markdown",
   "id": "70b81225",
   "metadata": {},
   "source": [
    "## Assignment Statement"
   ]
  },
  {
   "cell_type": "markdown",
   "id": "6e8b6cb3",
   "metadata": {},
   "source": [
    "The assignment statement has 3 parts:\n",
    "* the name of the variable\n",
    "* the equal sign --> The assignment operator\n",
    "* an expression to the right of the assignment operator"
   ]
  },
  {
   "cell_type": "code",
   "execution_count": 4,
   "id": "ca186c1e",
   "metadata": {},
   "outputs": [],
   "source": [
    "pi = 3.141592653589793\n",
    "\n",
    "# our expression will be a string - still an expression but a series of characters\n",
    "# contained in quotes\n",
    "message = 'And now for something completely different'"
   ]
  },
  {
   "cell_type": "code",
   "execution_count": 5,
   "id": "998a6286",
   "metadata": {},
   "outputs": [
    {
     "data": {
      "text/plain": [
       "'And now for something completely different'"
      ]
     },
     "execution_count": 5,
     "metadata": {},
     "output_type": "execute_result"
    }
   ],
   "source": [
    "message"
   ]
  },
  {
   "cell_type": "code",
   "execution_count": 6,
   "id": "fa9989cd",
   "metadata": {},
   "outputs": [
    {
     "data": {
      "text/plain": [
       "17"
      ]
     },
     "execution_count": 6,
     "metadata": {},
     "output_type": "execute_result"
    }
   ],
   "source": [
    "n"
   ]
  },
  {
   "cell_type": "code",
   "execution_count": 7,
   "id": "8a7b25d4",
   "metadata": {},
   "outputs": [
    {
     "data": {
      "text/plain": [
       "3.141592653589793"
      ]
     },
     "execution_count": 7,
     "metadata": {},
     "output_type": "execute_result"
    }
   ],
   "source": [
    "pi"
   ]
  },
  {
   "cell_type": "code",
   "execution_count": 8,
   "id": "efcb9d17",
   "metadata": {},
   "outputs": [
    {
     "data": {
      "text/plain": [
       "42"
      ]
     },
     "execution_count": 8,
     "metadata": {},
     "output_type": "execute_result"
    }
   ],
   "source": [
    "n + 25"
   ]
  },
  {
   "cell_type": "code",
   "execution_count": 9,
   "id": "190e3225",
   "metadata": {},
   "outputs": [
    {
     "data": {
      "text/plain": [
       "6.283185307179586"
      ]
     },
     "execution_count": 9,
     "metadata": {},
     "output_type": "execute_result"
    }
   ],
   "source": [
    "2 * pi"
   ]
  },
  {
   "cell_type": "code",
   "execution_count": 10,
   "id": "3fca198c",
   "metadata": {},
   "outputs": [
    {
     "data": {
      "text/plain": [
       "3"
      ]
     },
     "execution_count": 10,
     "metadata": {},
     "output_type": "execute_result"
    }
   ],
   "source": [
    "round(pi)"
   ]
  },
  {
   "cell_type": "code",
   "execution_count": 11,
   "id": "1f0914de",
   "metadata": {},
   "outputs": [
    {
     "ename": "NameError",
     "evalue": "name 'π' is not defined",
     "output_type": "error",
     "traceback": [
      "\u001b[31m---------------------------------------------------------------------------\u001b[39m",
      "\u001b[31mNameError\u001b[39m                                 Traceback (most recent call last)",
      "\u001b[36mCell\u001b[39m\u001b[36m \u001b[39m\u001b[32mIn[11]\u001b[39m\u001b[32m, line 2\u001b[39m\n\u001b[32m      1\u001b[39m \u001b[38;5;28mlen\u001b[39m(message)\n\u001b[32m----> \u001b[39m\u001b[32m2\u001b[39m pi = \u001b[43mπ\u001b[49m\n\u001b[32m      3\u001b[39m \u001b[38;5;28mprint\u001b[39m(pi)\n",
      "\u001b[31mNameError\u001b[39m: name 'π' is not defined"
     ]
    }
   ],
   "source": [
    "len(message)\n",
    "pi = π\n",
    "print(pi)"
   ]
  },
  {
   "cell_type": "markdown",
   "id": "96b90e1d",
   "metadata": {},
   "source": [
    "## 2.2 State Diagram\n",
    "\n",
    "<b>State Diagram</b> - is a figure that shows what state each of the variables is in."
   ]
  },
  {
   "cell_type": "markdown",
   "id": "4a27b623",
   "metadata": {},
   "source": [
    "<img src=\"https://allendowney.github.io/ThinkPython/_images/54319c437cca81caa5fa9ee52a1edfb01810e693b7ebd67c56de713f1d132655.png\">"
   ]
  },
  {
   "cell_type": "markdown",
   "id": "8a789076",
   "metadata": {},
   "source": [
    "## 2.3 Variable Names"
   ]
  },
  {
   "cell_type": "markdown",
   "id": "5960c299",
   "metadata": {},
   "source": [
    "There are rules to naming variables:\n",
    "\n",
    "- The only punctuation that can appear in a variable name in Python is _\n",
    "- You cannot start a variable name with a number\n",
    "- You cannot use Python keywords as a variable names\n",
    "\n",
    "### Example Variable Names\n",
    "* your_name\n",
    "* yourName\n",
    "* YourName\n",
    "* mph\n",
    "* x\n",
    "\n",
    "### Bad Variable Names"
   ]
  },
  {
   "cell_type": "code",
   "execution_count": null,
   "id": "155e19a4",
   "metadata": {},
   "outputs": [
    {
     "ename": "SyntaxError",
     "evalue": "invalid syntax (347180775.py, line 1)",
     "output_type": "error",
     "traceback": [
      "  \u001b[36mCell\u001b[39m\u001b[36m \u001b[39m\u001b[32mIn[14]\u001b[39m\u001b[32m, line 1\u001b[39m\n\u001b[31m    \u001b[39m\u001b[31mmillion! = 1000000\u001b[39m\n           ^\n\u001b[31mSyntaxError\u001b[39m\u001b[31m:\u001b[39m invalid syntax\n"
     ]
    }
   ],
   "source": [
    "million! = 1000000"
   ]
  },
  {
   "cell_type": "code",
   "execution_count": null,
   "id": "b1b6d720",
   "metadata": {},
   "outputs": [
    {
     "ename": "SyntaxError",
     "evalue": "invalid decimal literal (3381618747.py, line 1)",
     "output_type": "error",
     "traceback": [
      "  \u001b[36mCell\u001b[39m\u001b[36m \u001b[39m\u001b[32mIn[15]\u001b[39m\u001b[32m, line 1\u001b[39m\n\u001b[31m    \u001b[39m\u001b[31m76trombones = 'big parade'\u001b[39m\n     ^\n\u001b[31mSyntaxError\u001b[39m\u001b[31m:\u001b[39m invalid decimal literal\n"
     ]
    }
   ],
   "source": [
    "76trombones = 'big parade'"
   ]
  },
  {
   "cell_type": "code",
   "execution_count": null,
   "id": "398a6489",
   "metadata": {},
   "outputs": [],
   "source": [
    "trombones76 = 'big parade'"
   ]
  },
  {
   "cell_type": "code",
   "execution_count": null,
   "id": "41102a41",
   "metadata": {},
   "outputs": [
    {
     "data": {
      "text/plain": [
       "'big parade'"
      ]
     },
     "execution_count": 18,
     "metadata": {},
     "output_type": "execute_result"
    }
   ],
   "source": [
    "trombones76"
   ]
  },
  {
   "cell_type": "code",
   "execution_count": null,
   "id": "d932b770",
   "metadata": {},
   "outputs": [
    {
     "ename": "SyntaxError",
     "evalue": "invalid syntax (2069597409.py, line 1)",
     "output_type": "error",
     "traceback": [
      "  \u001b[36mCell\u001b[39m\u001b[36m \u001b[39m\u001b[32mIn[19]\u001b[39m\u001b[32m, line 1\u001b[39m\n\u001b[31m    \u001b[39m\u001b[31mclass = 'Self-Defence Against Fresh Fruit'\u001b[39m\n          ^\n\u001b[31mSyntaxError\u001b[39m\u001b[31m:\u001b[39m invalid syntax\n"
     ]
    }
   ],
   "source": [
    "class = 'Self-Defence Against Fresh Fruit'"
   ]
  },
  {
   "cell_type": "code",
   "execution_count": null,
   "id": "4d127cc2",
   "metadata": {},
   "outputs": [],
   "source": [
    "print = 'This is my print statement'"
   ]
  },
  {
   "cell_type": "code",
   "execution_count": null,
   "id": "97a18dc3",
   "metadata": {},
   "outputs": [
    {
     "data": {
      "text/plain": [
       "'This is my print statement'"
      ]
     },
     "execution_count": 21,
     "metadata": {},
     "output_type": "execute_result"
    }
   ],
   "source": [
    "print"
   ]
  },
  {
   "cell_type": "code",
   "execution_count": null,
   "id": "6de56c93",
   "metadata": {},
   "outputs": [
    {
     "ename": "SyntaxError",
     "evalue": "cannot assign to True (940649374.py, line 1)",
     "output_type": "error",
     "traceback": [
      "  \u001b[36mCell\u001b[39m\u001b[36m \u001b[39m\u001b[32mIn[22]\u001b[39m\u001b[32m, line 1\u001b[39m\n\u001b[31m    \u001b[39m\u001b[31mTrue = 'This is my boolean'\u001b[39m\n    ^\n\u001b[31mSyntaxError\u001b[39m\u001b[31m:\u001b[39m cannot assign to True\n"
     ]
    }
   ],
   "source": [
    "True = 'This is my boolean'"
   ]
  },
  {
   "cell_type": "markdown",
   "id": "ff0060c4",
   "metadata": {},
   "source": [
    "# 2.4 The Import Statement"
   ]
  },
  {
   "cell_type": "code",
   "execution_count": null,
   "id": "939cd1fd",
   "metadata": {},
   "outputs": [],
   "source": [
    "import math"
   ]
  },
  {
   "cell_type": "code",
   "execution_count": null,
   "id": "f50580ba",
   "metadata": {},
   "outputs": [],
   "source": [
    "math.pi"
   ]
  },
  {
   "cell_type": "code",
   "execution_count": null,
   "id": "5a4a60f4",
   "metadata": {},
   "outputs": [],
   "source": [
    "math.sqrt(25)"
   ]
  },
  {
   "cell_type": "code",
   "execution_count": null,
   "id": "2da8d48b",
   "metadata": {},
   "outputs": [],
   "source": [
    "math.pow(5, 2)"
   ]
  },
  {
   "cell_type": "code",
   "execution_count": null,
   "id": "569eb92d",
   "metadata": {},
   "outputs": [],
   "source": [
    "5 ** 2"
   ]
  },
  {
   "cell_type": "markdown",
   "id": "38d0408d",
   "metadata": {},
   "source": [
    "# 2.5 Expressions and statements"
   ]
  },
  {
   "cell_type": "code",
   "execution_count": 13,
   "id": "2a57a3e1",
   "metadata": {},
   "outputs": [
    {
     "data": {
      "text/plain": [
       "42"
      ]
     },
     "execution_count": 13,
     "metadata": {},
     "output_type": "execute_result"
    }
   ],
   "source": [
    "import math\n",
    "n = 17\n",
    "19 + n + round(math.pi) * 2"
   ]
  },
  {
   "cell_type": "markdown",
   "id": "c30bdbcd",
   "metadata": {},
   "source": [
    "<b>Satement</b> - is a unit of code that has an effect, but no value. For example, assignment statement --> n = 17 - creates a variable and gives it a value, but the statement itself has no value."
   ]
  },
  {
   "cell_type": "markdown",
   "id": "5554ce04",
   "metadata": {},
   "source": [
    "## 2.6 The Print Function"
   ]
  },
  {
   "cell_type": "markdown",
   "id": "c5a76a1c",
   "metadata": {},
   "source": [
    "The print() function is one of Python's primary output functions."
   ]
  },
  {
   "cell_type": "code",
   "execution_count": 14,
   "id": "907f598d",
   "metadata": {},
   "outputs": [
    {
     "data": {
      "text/plain": [
       "18"
      ]
     },
     "execution_count": 14,
     "metadata": {},
     "output_type": "execute_result"
    }
   ],
   "source": [
    "n + 1"
   ]
  },
  {
   "cell_type": "markdown",
   "id": "745b233e",
   "metadata": {},
   "source": [
    "But if you evaluate more than one expression, only the value of the last one is displayed."
   ]
  },
  {
   "cell_type": "code",
   "execution_count": 15,
   "id": "a8aeee2f",
   "metadata": {},
   "outputs": [
    {
     "data": {
      "text/plain": [
       "20"
      ]
     },
     "execution_count": 15,
     "metadata": {},
     "output_type": "execute_result"
    }
   ],
   "source": [
    "n + 2\n",
    "n + 3"
   ]
  },
  {
   "cell_type": "markdown",
   "id": "8ae0ec2b",
   "metadata": {},
   "source": [
    "To display more than one value, you can use the print function."
   ]
  },
  {
   "cell_type": "code",
   "execution_count": 16,
   "id": "739549e2",
   "metadata": {},
   "outputs": [
    {
     "name": "stdout",
     "output_type": "stream",
     "text": [
      "19\n",
      "20\n"
     ]
    }
   ],
   "source": [
    "print(n+2)\n",
    "print(n+3)"
   ]
  },
  {
   "cell_type": "markdown",
   "id": "2550379e",
   "metadata": {},
   "source": [
    "It also works with floating-point numbers and strings.\n",
    "You can also use a sequence of expressions seperated by commas."
   ]
  },
  {
   "cell_type": "code",
   "execution_count": 17,
   "id": "0d303796",
   "metadata": {},
   "outputs": [
    {
     "name": "stdout",
     "output_type": "stream",
     "text": [
      "The value of pi is approximately 3.141592653589793\n"
     ]
    }
   ],
   "source": [
    "print('The value of pi is approximately', math.pi)\n"
   ]
  },
  {
   "cell_type": "markdown",
   "id": "f697c951",
   "metadata": {},
   "source": [
    "## 2.7 Arguments"
   ]
  },
  {
   "cell_type": "markdown",
   "id": "3a1a9d09",
   "metadata": {},
   "source": [
    "<b>Argument</b> - When you call a function, the expression that is placed inside of parenthesis is called an argument.\n",
    "\n",
    "* It is only called an argument when the function is being called.\n",
    "* When a function is being defined, we call the expression(s) inside of the parenthesis is called a Parameter."
   ]
  },
  {
   "cell_type": "code",
   "execution_count": 18,
   "id": "b15417a3",
   "metadata": {},
   "outputs": [
    {
     "data": {
      "text/plain": [
       "101"
      ]
     },
     "execution_count": 18,
     "metadata": {},
     "output_type": "execute_result"
    }
   ],
   "source": [
    "int('101')"
   ]
  },
  {
   "cell_type": "code",
   "execution_count": 21,
   "id": "bf8a81bc",
   "metadata": {},
   "outputs": [
    {
     "name": "stdout",
     "output_type": "stream",
     "text": [
      "101101\n",
      "202\n"
     ]
    }
   ],
   "source": [
    "num = '101'\n",
    "print(2 * num)\n",
    "num = int(num)\n",
    "print(2 * num)"
   ]
  },
  {
   "cell_type": "code",
   "execution_count": 22,
   "id": "fd05a0ad",
   "metadata": {},
   "outputs": [
    {
     "data": {
      "text/plain": [
       "25.0"
      ]
     },
     "execution_count": 22,
     "metadata": {},
     "output_type": "execute_result"
    }
   ],
   "source": [
    "# Functions can accept multiple arguments\n",
    "math.pow(5, 2)"
   ]
  },
  {
   "cell_type": "code",
   "execution_count": 24,
   "id": "4809edc1",
   "metadata": {},
   "outputs": [
    {
     "data": {
      "text/plain": [
       "5"
      ]
     },
     "execution_count": 24,
     "metadata": {},
     "output_type": "execute_result"
    }
   ],
   "source": [
    "# Option additional arguments\n",
    "int('101', 2) # The 2 refers to what number base we are converting --> Binary"
   ]
  },
  {
   "cell_type": "code",
   "execution_count": 25,
   "id": "d99017af",
   "metadata": {},
   "outputs": [
    {
     "data": {
      "text/plain": [
       "3.142"
      ]
     },
     "execution_count": 25,
     "metadata": {},
     "output_type": "execute_result"
    }
   ],
   "source": [
    "round(math.pi, 3)"
   ]
  },
  {
   "cell_type": "code",
   "execution_count": 26,
   "id": "fe3dc044",
   "metadata": {},
   "outputs": [
    {
     "ename": "TypeError",
     "evalue": "float expected at most 1 argument, got 2",
     "output_type": "error",
     "traceback": [
      "\u001b[31m---------------------------------------------------------------------------\u001b[39m",
      "\u001b[31mTypeError\u001b[39m                                 Traceback (most recent call last)",
      "\u001b[36mCell\u001b[39m\u001b[36m \u001b[39m\u001b[32mIn[26]\u001b[39m\u001b[32m, line 2\u001b[39m\n\u001b[32m      1\u001b[39m \u001b[38;5;66;03m# If you use more arguments than the function allows\u001b[39;00m\n\u001b[32m----> \u001b[39m\u001b[32m2\u001b[39m \u001b[38;5;28;43mfloat\u001b[39;49m\u001b[43m(\u001b[49m\u001b[33;43m'\u001b[39;49m\u001b[33;43m123.0\u001b[39;49m\u001b[33;43m'\u001b[39;49m\u001b[43m,\u001b[49m\u001b[43m \u001b[49m\u001b[32;43m2\u001b[39;49m\u001b[43m)\u001b[49m\n",
      "\u001b[31mTypeError\u001b[39m: float expected at most 1 argument, got 2"
     ]
    }
   ],
   "source": [
    "# If you use more arguments than the function allows\n",
    "float('123.0', 2)"
   ]
  },
  {
   "cell_type": "code",
   "execution_count": 27,
   "id": "33edfa61",
   "metadata": {},
   "outputs": [
    {
     "data": {
      "text/plain": [
       "123.0"
      ]
     },
     "execution_count": 27,
     "metadata": {},
     "output_type": "execute_result"
    }
   ],
   "source": [
    "float('123.0')"
   ]
  },
  {
   "cell_type": "code",
   "execution_count": 28,
   "id": "25018ff2",
   "metadata": {},
   "outputs": [
    {
     "ename": "TypeError",
     "evalue": "'float' object is not callable",
     "output_type": "error",
     "traceback": [
      "\u001b[31m---------------------------------------------------------------------------\u001b[39m",
      "\u001b[31mTypeError\u001b[39m                                 Traceback (most recent call last)",
      "\u001b[36mCell\u001b[39m\u001b[36m \u001b[39m\u001b[32mIn[28]\u001b[39m\u001b[32m, line 1\u001b[39m\n\u001b[32m----> \u001b[39m\u001b[32m1\u001b[39m \u001b[43mmath\u001b[49m\u001b[43m.\u001b[49m\u001b[43mpi\u001b[49m\u001b[43m(\u001b[49m\u001b[32;43m2\u001b[39;49m\u001b[43m)\u001b[49m\n",
      "\u001b[31mTypeError\u001b[39m: 'float' object is not callable"
     ]
    }
   ],
   "source": [
    "math.pi(2)"
   ]
  },
  {
   "cell_type": "code",
   "execution_count": 29,
   "id": "62e3b5a9",
   "metadata": {},
   "outputs": [
    {
     "ename": "TypeError",
     "evalue": "must be real number, not str",
     "output_type": "error",
     "traceback": [
      "\u001b[31m---------------------------------------------------------------------------\u001b[39m",
      "\u001b[31mTypeError\u001b[39m                                 Traceback (most recent call last)",
      "\u001b[36mCell\u001b[39m\u001b[36m \u001b[39m\u001b[32mIn[29]\u001b[39m\u001b[32m, line 1\u001b[39m\n\u001b[32m----> \u001b[39m\u001b[32m1\u001b[39m \u001b[43mmath\u001b[49m\u001b[43m.\u001b[49m\u001b[43msqrt\u001b[49m\u001b[43m(\u001b[49m\u001b[33;43m'\u001b[39;49m\u001b[33;43m123\u001b[39;49m\u001b[33;43m'\u001b[39;49m\u001b[43m)\u001b[49m\n",
      "\u001b[31mTypeError\u001b[39m: must be real number, not str"
     ]
    }
   ],
   "source": [
    "math.sqrt('123')"
   ]
  },
  {
   "cell_type": "markdown",
   "id": "481df318",
   "metadata": {},
   "source": [
    "## 2.8 Comments "
   ]
  },
  {
   "cell_type": "code",
   "execution_count": 30,
   "id": "c9de56ee",
   "metadata": {},
   "outputs": [],
   "source": [
    "# number of seconds in 42:42\n",
    "seconds = 42 * 60 + 42"
   ]
  },
  {
   "cell_type": "code",
   "execution_count": 31,
   "id": "e085aae1",
   "metadata": {},
   "outputs": [],
   "source": [
    "miles = 10 / 1.61 # 10 kilometers in miles"
   ]
  },
  {
   "cell_type": "code",
   "execution_count": 32,
   "id": "145f3f1f",
   "metadata": {},
   "outputs": [],
   "source": [
    "# Comments must be descriptive and not just repeat the code that comes with it\n",
    "v = 8   # assign 8 to v\n",
    "v = 8   # velocity in mph"
   ]
  },
  {
   "cell_type": "code",
   "execution_count": null,
   "id": "4d45cfe3",
   "metadata": {},
   "outputs": [],
   "source": []
  }
 ],
 "metadata": {
  "kernelspec": {
   "display_name": "Python 3",
   "language": "python",
   "name": "python3"
  },
  "language_info": {
   "codemirror_mode": {
    "name": "ipython",
    "version": 3
   },
   "file_extension": ".py",
   "mimetype": "text/x-python",
   "name": "python",
   "nbconvert_exporter": "python",
   "pygments_lexer": "ipython3",
   "version": "3.12.1"
  }
 },
 "nbformat": 4,
 "nbformat_minor": 5
}
