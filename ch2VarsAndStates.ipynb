{
 "cells": [
  {
   "cell_type": "markdown",
   "id": "50c0c059",
   "metadata": {},
   "source": [
    "# 2. Variables and Statements"
   ]
  },
  {
   "cell_type": "markdown",
   "id": "38eb2285",
   "metadata": {},
   "source": [
    "## 2.1 Variables\n",
    "\n",
    "<b>Variable</b> - is a name that refers to a value"
   ]
  },
  {
   "cell_type": "code",
   "execution_count": null,
   "id": "255728af",
   "metadata": {},
   "outputs": [],
   "source": [
    "n = 17\n",
    "\n",
    "# n is the name of my variable\n",
    "# The variable name refers to a space in computer memory that holds a value"
   ]
  },
  {
   "cell_type": "markdown",
   "id": "70b81225",
   "metadata": {},
   "source": [
    "## Assignment Statement"
   ]
  },
  {
   "cell_type": "markdown",
   "id": "6e8b6cb3",
   "metadata": {},
   "source": [
    "The assignment statement has 3 parts:\n",
    "* the name of the variable\n",
    "* the equal sign --> The assignment operator\n",
    "* an expression to the right of the assignment operator"
   ]
  },
  {
   "cell_type": "code",
   "execution_count": null,
   "id": "ca186c1e",
   "metadata": {},
   "outputs": [],
   "source": [
    "pi = 3.141592653589793\n",
    "\n",
    "# our expression will be a string - still an expression but a series of characters\n",
    "# contained in quotes\n",
    "message = 'And now for something completely different'"
   ]
  },
  {
   "cell_type": "code",
   "execution_count": null,
   "id": "998a6286",
   "metadata": {},
   "outputs": [
    {
     "data": {
      "text/plain": [
       "'And now for something completely different.'"
      ]
     },
     "execution_count": 3,
     "metadata": {},
     "output_type": "execute_result"
    }
   ],
   "source": [
    "message"
   ]
  },
  {
   "cell_type": "code",
   "execution_count": null,
   "id": "fa9989cd",
   "metadata": {},
   "outputs": [
    {
     "data": {
      "text/plain": [
       "17"
      ]
     },
     "execution_count": 4,
     "metadata": {},
     "output_type": "execute_result"
    }
   ],
   "source": [
    "n"
   ]
  },
  {
   "cell_type": "code",
   "execution_count": null,
   "id": "8a7b25d4",
   "metadata": {},
   "outputs": [
    {
     "data": {
      "text/plain": [
       "3.141592653589793"
      ]
     },
     "execution_count": 5,
     "metadata": {},
     "output_type": "execute_result"
    }
   ],
   "source": [
    "pi"
   ]
  },
  {
   "cell_type": "code",
   "execution_count": null,
   "id": "efcb9d17",
   "metadata": {},
   "outputs": [
    {
     "data": {
      "text/plain": [
       "42"
      ]
     },
     "execution_count": 6,
     "metadata": {},
     "output_type": "execute_result"
    }
   ],
   "source": [
    "n + 25"
   ]
  },
  {
   "cell_type": "code",
   "execution_count": null,
   "id": "190e3225",
   "metadata": {},
   "outputs": [
    {
     "data": {
      "text/plain": [
       "6.283185307179586"
      ]
     },
     "execution_count": 7,
     "metadata": {},
     "output_type": "execute_result"
    }
   ],
   "source": [
    "2 * pi"
   ]
  },
  {
   "cell_type": "code",
   "execution_count": null,
   "id": "3fca198c",
   "metadata": {},
   "outputs": [
    {
     "data": {
      "text/plain": [
       "3"
      ]
     },
     "execution_count": 8,
     "metadata": {},
     "output_type": "execute_result"
    }
   ],
   "source": [
    "round(pi)"
   ]
  },
  {
   "cell_type": "code",
   "execution_count": null,
   "id": "1f0914de",
   "metadata": {},
   "outputs": [
    {
     "ename": "NameError",
     "evalue": "name 'π' is not defined",
     "output_type": "error",
     "traceback": [
      "\u001b[31m---------------------------------------------------------------------------\u001b[39m",
      "\u001b[31mNameError\u001b[39m                                 Traceback (most recent call last)",
      "\u001b[36mCell\u001b[39m\u001b[36m \u001b[39m\u001b[32mIn[13]\u001b[39m\u001b[32m, line 2\u001b[39m\n\u001b[32m      1\u001b[39m \u001b[38;5;28mlen\u001b[39m(message)\n\u001b[32m----> \u001b[39m\u001b[32m2\u001b[39m pi = \u001b[43mπ\u001b[49m\n\u001b[32m      3\u001b[39m \u001b[38;5;28mprint\u001b[39m(pi)\n",
      "\u001b[31mNameError\u001b[39m: name 'π' is not defined"
     ]
    }
   ],
   "source": [
    "len(message)\n",
    "pi = π\n",
    "print(pi)"
   ]
  },
  {
   "cell_type": "markdown",
   "id": "96b90e1d",
   "metadata": {},
   "source": [
    "## 2.2 State Diagram\n",
    "\n",
    "<b>State Diagram</b> - is a figure that shows what state each of the variables is in."
   ]
  },
  {
   "cell_type": "markdown",
   "id": "4a27b623",
   "metadata": {},
   "source": [
    "<img src=\"https://allendowney.github.io/ThinkPython/_images/54319c437cca81caa5fa9ee52a1edfb01810e693b7ebd67c56de713f1d132655.png\">"
   ]
  },
  {
   "cell_type": "markdown",
   "id": "8a789076",
   "metadata": {},
   "source": [
    "## 2.3 Variable Names"
   ]
  },
  {
   "cell_type": "markdown",
   "id": "5960c299",
   "metadata": {},
   "source": [
    "There are rules to naming variables:\n",
    "\n",
    "- The only punctuation that can appear in a variable name in Python is _\n",
    "- You cannot start a variable name with a number\n",
    "- You cannot use Python keywords as a variable names\n",
    "\n",
    "### Example Variable Names\n",
    "* your_name\n",
    "* yourName\n",
    "* YourName\n",
    "* mph\n",
    "* x\n",
    "\n",
    "### Bad Variable Names"
   ]
  },
  {
   "cell_type": "code",
   "execution_count": null,
   "id": "155e19a4",
   "metadata": {},
   "outputs": [
    {
     "ename": "SyntaxError",
     "evalue": "invalid syntax (347180775.py, line 1)",
     "output_type": "error",
     "traceback": [
      "  \u001b[36mCell\u001b[39m\u001b[36m \u001b[39m\u001b[32mIn[14]\u001b[39m\u001b[32m, line 1\u001b[39m\n\u001b[31m    \u001b[39m\u001b[31mmillion! = 1000000\u001b[39m\n           ^\n\u001b[31mSyntaxError\u001b[39m\u001b[31m:\u001b[39m invalid syntax\n"
     ]
    }
   ],
   "source": [
    "million! = 1000000"
   ]
  },
  {
   "cell_type": "code",
   "execution_count": null,
   "id": "b1b6d720",
   "metadata": {},
   "outputs": [
    {
     "ename": "SyntaxError",
     "evalue": "invalid decimal literal (3381618747.py, line 1)",
     "output_type": "error",
     "traceback": [
      "  \u001b[36mCell\u001b[39m\u001b[36m \u001b[39m\u001b[32mIn[15]\u001b[39m\u001b[32m, line 1\u001b[39m\n\u001b[31m    \u001b[39m\u001b[31m76trombones = 'big parade'\u001b[39m\n     ^\n\u001b[31mSyntaxError\u001b[39m\u001b[31m:\u001b[39m invalid decimal literal\n"
     ]
    }
   ],
   "source": [
    "76trombones = 'big parade'"
   ]
  },
  {
   "cell_type": "code",
   "execution_count": null,
   "id": "398a6489",
   "metadata": {},
   "outputs": [],
   "source": [
    "trombones76 = 'big parade'"
   ]
  },
  {
   "cell_type": "code",
   "execution_count": null,
   "id": "41102a41",
   "metadata": {},
   "outputs": [
    {
     "data": {
      "text/plain": [
       "'big parade'"
      ]
     },
     "execution_count": 18,
     "metadata": {},
     "output_type": "execute_result"
    }
   ],
   "source": [
    "trombones76"
   ]
  },
  {
   "cell_type": "code",
   "execution_count": null,
   "id": "d932b770",
   "metadata": {},
   "outputs": [
    {
     "ename": "SyntaxError",
     "evalue": "invalid syntax (2069597409.py, line 1)",
     "output_type": "error",
     "traceback": [
      "  \u001b[36mCell\u001b[39m\u001b[36m \u001b[39m\u001b[32mIn[19]\u001b[39m\u001b[32m, line 1\u001b[39m\n\u001b[31m    \u001b[39m\u001b[31mclass = 'Self-Defence Against Fresh Fruit'\u001b[39m\n          ^\n\u001b[31mSyntaxError\u001b[39m\u001b[31m:\u001b[39m invalid syntax\n"
     ]
    }
   ],
   "source": [
    "class = 'Self-Defence Against Fresh Fruit'"
   ]
  },
  {
   "cell_type": "code",
   "execution_count": null,
   "id": "4d127cc2",
   "metadata": {},
   "outputs": [],
   "source": [
    "print = 'This is my print statement'"
   ]
  },
  {
   "cell_type": "code",
   "execution_count": null,
   "id": "97a18dc3",
   "metadata": {},
   "outputs": [
    {
     "data": {
      "text/plain": [
       "'This is my print statement'"
      ]
     },
     "execution_count": 21,
     "metadata": {},
     "output_type": "execute_result"
    }
   ],
   "source": [
    "print"
   ]
  },
  {
   "cell_type": "code",
   "execution_count": null,
   "id": "6de56c93",
   "metadata": {},
   "outputs": [
    {
     "ename": "SyntaxError",
     "evalue": "cannot assign to True (940649374.py, line 1)",
     "output_type": "error",
     "traceback": [
      "  \u001b[36mCell\u001b[39m\u001b[36m \u001b[39m\u001b[32mIn[22]\u001b[39m\u001b[32m, line 1\u001b[39m\n\u001b[31m    \u001b[39m\u001b[31mTrue = 'This is my boolean'\u001b[39m\n    ^\n\u001b[31mSyntaxError\u001b[39m\u001b[31m:\u001b[39m cannot assign to True\n"
     ]
    }
   ],
   "source": [
    "True = 'This is my boolean'"
   ]
  },
  {
   "cell_type": "markdown",
   "id": "ff0060c4",
   "metadata": {},
   "source": [
    "# 2.4 The Import Statement"
   ]
  },
  {
   "cell_type": "code",
   "execution_count": null,
   "id": "939cd1fd",
   "metadata": {},
   "outputs": [],
   "source": [
    "import math"
   ]
  },
  {
   "cell_type": "code",
   "execution_count": null,
   "id": "f50580ba",
   "metadata": {},
   "outputs": [],
   "source": [
    "math.pi"
   ]
  },
  {
   "cell_type": "code",
   "execution_count": null,
   "id": "5a4a60f4",
   "metadata": {},
   "outputs": [],
   "source": [
    "math.sqrt(25)"
   ]
  },
  {
   "cell_type": "code",
   "execution_count": null,
   "id": "2da8d48b",
   "metadata": {},
   "outputs": [],
   "source": [
    "math.pow(5, 2)"
   ]
  },
  {
   "cell_type": "code",
   "execution_count": null,
   "id": "569eb92d",
   "metadata": {},
   "outputs": [],
   "source": [
    "5 ** 2"
   ]
  },
  {
   "cell_type": "markdown",
   "id": "38d0408d",
   "metadata": {},
   "source": [
    "# 2.5 Expressions and statements"
   ]
  },
  {
   "cell_type": "code",
   "execution_count": null,
   "id": "2a57a3e1",
   "metadata": {},
   "outputs": [],
   "source": [
    "n = 17\n",
    "19 + n + round(math.pi) * 2"
   ]
  },
  {
   "cell_type": "code",
   "execution_count": null,
   "id": "6aa41669",
   "metadata": {},
   "outputs": [],
   "source": []
  }
 ],
 "metadata": {
  "kernelspec": {
   "display_name": "Python 3",
   "language": "python",
   "name": "python3"
  },
  "language_info": {
   "codemirror_mode": {
    "name": "ipython",
    "version": 3
   },
   "file_extension": ".py",
   "mimetype": "text/x-python",
   "name": "python",
   "nbconvert_exporter": "python",
   "pygments_lexer": "ipython3",
   "version": "3.12.1"
  }
 },
 "nbformat": 4,
 "nbformat_minor": 5
}
